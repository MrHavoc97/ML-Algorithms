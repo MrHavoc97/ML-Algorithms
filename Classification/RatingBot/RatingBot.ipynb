{
 "cells": [
  {
   "cell_type": "code",
   "execution_count": 1,
   "source": [
    "import pandas as pd \n",
    "\n",
    "df = pd.read_csv('reviews.csv')"
   ],
   "outputs": [],
   "metadata": {}
  },
  {
   "cell_type": "code",
   "execution_count": 2,
   "source": [
    "df.head()"
   ],
   "outputs": [
    {
     "output_type": "execute_result",
     "data": {
      "text/html": [
       "<div>\n",
       "<style scoped>\n",
       "    .dataframe tbody tr th:only-of-type {\n",
       "        vertical-align: middle;\n",
       "    }\n",
       "\n",
       "    .dataframe tbody tr th {\n",
       "        vertical-align: top;\n",
       "    }\n",
       "\n",
       "    .dataframe thead th {\n",
       "        text-align: right;\n",
       "    }\n",
       "</style>\n",
       "<table border=\"1\" class=\"dataframe\">\n",
       "  <thead>\n",
       "    <tr style=\"text-align: right;\">\n",
       "      <th></th>\n",
       "      <th>Reviews</th>\n",
       "      <th>Rating</th>\n",
       "    </tr>\n",
       "  </thead>\n",
       "  <tbody>\n",
       "    <tr>\n",
       "      <th>0</th>\n",
       "      <td>The product is fairly good but it has scratche...</td>\n",
       "      <td>Average</td>\n",
       "    </tr>\n",
       "    <tr>\n",
       "      <th>1</th>\n",
       "      <td>Not same as told in the description</td>\n",
       "      <td>Poor</td>\n",
       "    </tr>\n",
       "    <tr>\n",
       "      <th>2</th>\n",
       "      <td>It is worth the money!</td>\n",
       "      <td>Good</td>\n",
       "    </tr>\n",
       "    <tr>\n",
       "      <th>3</th>\n",
       "      <td>Delivered product is not genuine</td>\n",
       "      <td>Poor</td>\n",
       "    </tr>\n",
       "    <tr>\n",
       "      <th>4</th>\n",
       "      <td>I'm not satisifed with the build quality</td>\n",
       "      <td>Poor</td>\n",
       "    </tr>\n",
       "  </tbody>\n",
       "</table>\n",
       "</div>"
      ],
      "text/plain": [
       "                                             Reviews   Rating\n",
       "0  The product is fairly good but it has scratche...  Average\n",
       "1                Not same as told in the description     Poor\n",
       "2                             It is worth the money!     Good\n",
       "3                   Delivered product is not genuine     Poor\n",
       "4           I'm not satisifed with the build quality     Poor"
      ]
     },
     "metadata": {},
     "execution_count": 2
    }
   ],
   "metadata": {}
  },
  {
   "cell_type": "code",
   "execution_count": 3,
   "source": [
    "df.tail()"
   ],
   "outputs": [
    {
     "output_type": "execute_result",
     "data": {
      "text/html": [
       "<div>\n",
       "<style scoped>\n",
       "    .dataframe tbody tr th:only-of-type {\n",
       "        vertical-align: middle;\n",
       "    }\n",
       "\n",
       "    .dataframe tbody tr th {\n",
       "        vertical-align: top;\n",
       "    }\n",
       "\n",
       "    .dataframe thead th {\n",
       "        text-align: right;\n",
       "    }\n",
       "</style>\n",
       "<table border=\"1\" class=\"dataframe\">\n",
       "  <thead>\n",
       "    <tr style=\"text-align: right;\">\n",
       "      <th></th>\n",
       "      <th>Reviews</th>\n",
       "      <th>Rating</th>\n",
       "    </tr>\n",
       "  </thead>\n",
       "  <tbody>\n",
       "    <tr>\n",
       "      <th>15</th>\n",
       "      <td>The build quality is awesome for the price</td>\n",
       "      <td>Good</td>\n",
       "    </tr>\n",
       "    <tr>\n",
       "      <th>16</th>\n",
       "      <td>Cannot find any better</td>\n",
       "      <td>Good</td>\n",
       "    </tr>\n",
       "    <tr>\n",
       "      <th>17</th>\n",
       "      <td>Complete satisfactory</td>\n",
       "      <td>Good</td>\n",
       "    </tr>\n",
       "    <tr>\n",
       "      <th>18</th>\n",
       "      <td>Packaging was torn off but the product is fine</td>\n",
       "      <td>Average</td>\n",
       "    </tr>\n",
       "    <tr>\n",
       "      <th>19</th>\n",
       "      <td>This is not good for the price range</td>\n",
       "      <td>Poor</td>\n",
       "    </tr>\n",
       "  </tbody>\n",
       "</table>\n",
       "</div>"
      ],
      "text/plain": [
       "                                           Reviews   Rating\n",
       "15      The build quality is awesome for the price     Good\n",
       "16                          Cannot find any better     Good\n",
       "17                           Complete satisfactory     Good\n",
       "18  Packaging was torn off but the product is fine  Average\n",
       "19            This is not good for the price range     Poor"
      ]
     },
     "metadata": {},
     "execution_count": 3
    }
   ],
   "metadata": {}
  },
  {
   "cell_type": "code",
   "execution_count": 4,
   "source": [
    "from sklearn.feature_extraction.text import CountVectorizer, TfidfTransformer"
   ],
   "outputs": [],
   "metadata": {}
  },
  {
   "cell_type": "code",
   "execution_count": 5,
   "source": [
    "X = df['Reviews']\n",
    "\n",
    "vec = CountVectorizer()\n",
    "vec.fit(X)\n",
    "vec_X = vec.transform(X)"
   ],
   "outputs": [],
   "metadata": {}
  },
  {
   "cell_type": "code",
   "execution_count": 6,
   "source": [
    "vec.vocabulary_"
   ],
   "outputs": [
    {
     "output_type": "execute_result",
     "data": {
      "text/plain": [
       "{'the': 52,\n",
       " 'product': 43,\n",
       " 'is': 33,\n",
       " 'fairly': 23,\n",
       " 'good': 30,\n",
       " 'but': 8,\n",
       " 'it': 35,\n",
       " 'has': 31,\n",
       " 'scratches': 51,\n",
       " 'on': 40,\n",
       " 'box': 6,\n",
       " 'not': 37,\n",
       " 'same': 47,\n",
       " 'as': 2,\n",
       " 'told': 55,\n",
       " 'in': 32,\n",
       " 'description': 18,\n",
       " 'worth': 62,\n",
       " 'money': 36,\n",
       " 'delivered': 17,\n",
       " 'genuine': 28,\n",
       " 'satisifed': 50,\n",
       " 'with': 61,\n",
       " 'build': 7,\n",
       " 'quality': 44,\n",
       " 'this': 53,\n",
       " 'considerably': 14,\n",
       " 'for': 27,\n",
       " 'price': 42,\n",
       " 'range': 45,\n",
       " 'fine': 26,\n",
       " 'packaging': 41,\n",
       " 'isn': 34,\n",
       " 'am': 0,\n",
       " 'satisfied': 49,\n",
       " 'certainly': 11,\n",
       " 'better': 5,\n",
       " 'version': 57,\n",
       " 'availble': 3,\n",
       " 'damaged': 16,\n",
       " 'will': 60,\n",
       " 'recommend': 46,\n",
       " 'everyone': 20,\n",
       " 'to': 54,\n",
       " 'go': 29,\n",
       " 'was': 59,\n",
       " 'fake': 24,\n",
       " 'copy': 15,\n",
       " 'of': 38,\n",
       " 'evrything': 21,\n",
       " 'except': 22,\n",
       " 'does': 19,\n",
       " 'come': 12,\n",
       " 'warranty': 58,\n",
       " 'card': 10,\n",
       " 'awesome': 4,\n",
       " 'cannot': 9,\n",
       " 'find': 25,\n",
       " 'any': 1,\n",
       " 'complete': 13,\n",
       " 'satisfactory': 48,\n",
       " 'torn': 56,\n",
       " 'off': 39}"
      ]
     },
     "metadata": {},
     "execution_count": 6
    }
   ],
   "metadata": {}
  },
  {
   "cell_type": "code",
   "execution_count": 7,
   "source": [
    "vec.get_feature_names()"
   ],
   "outputs": [
    {
     "output_type": "execute_result",
     "data": {
      "text/plain": [
       "['am',\n",
       " 'any',\n",
       " 'as',\n",
       " 'availble',\n",
       " 'awesome',\n",
       " 'better',\n",
       " 'box',\n",
       " 'build',\n",
       " 'but',\n",
       " 'cannot',\n",
       " 'card',\n",
       " 'certainly',\n",
       " 'come',\n",
       " 'complete',\n",
       " 'considerably',\n",
       " 'copy',\n",
       " 'damaged',\n",
       " 'delivered',\n",
       " 'description',\n",
       " 'does',\n",
       " 'everyone',\n",
       " 'evrything',\n",
       " 'except',\n",
       " 'fairly',\n",
       " 'fake',\n",
       " 'find',\n",
       " 'fine',\n",
       " 'for',\n",
       " 'genuine',\n",
       " 'go',\n",
       " 'good',\n",
       " 'has',\n",
       " 'in',\n",
       " 'is',\n",
       " 'isn',\n",
       " 'it',\n",
       " 'money',\n",
       " 'not',\n",
       " 'of',\n",
       " 'off',\n",
       " 'on',\n",
       " 'packaging',\n",
       " 'price',\n",
       " 'product',\n",
       " 'quality',\n",
       " 'range',\n",
       " 'recommend',\n",
       " 'same',\n",
       " 'satisfactory',\n",
       " 'satisfied',\n",
       " 'satisifed',\n",
       " 'scratches',\n",
       " 'the',\n",
       " 'this',\n",
       " 'to',\n",
       " 'told',\n",
       " 'torn',\n",
       " 'version',\n",
       " 'warranty',\n",
       " 'was',\n",
       " 'will',\n",
       " 'with',\n",
       " 'worth']"
      ]
     },
     "metadata": {},
     "execution_count": 7
    }
   ],
   "metadata": {}
  },
  {
   "cell_type": "code",
   "execution_count": 8,
   "source": [
    "tfidf = TfidfTransformer()\n",
    "tfidf.fit(vec_X)\n",
    "\n",
    "review = tfidf.transform(vec_X)"
   ],
   "outputs": [],
   "metadata": {}
  },
  {
   "cell_type": "code",
   "execution_count": 9,
   "source": [
    "y = df['Rating'].tolist()\n",
    "y"
   ],
   "outputs": [
    {
     "output_type": "execute_result",
     "data": {
      "text/plain": [
       "['Average',\n",
       " 'Poor',\n",
       " 'Good',\n",
       " 'Poor',\n",
       " 'Poor',\n",
       " 'Good',\n",
       " 'Average',\n",
       " 'Average',\n",
       " 'Average',\n",
       " 'Poor',\n",
       " 'Good',\n",
       " 'Poor',\n",
       " 'Poor',\n",
       " 'Average',\n",
       " 'Poor',\n",
       " 'Good',\n",
       " 'Good',\n",
       " 'Good',\n",
       " 'Average',\n",
       " 'Poor']"
      ]
     },
     "metadata": {},
     "execution_count": 9
    }
   ],
   "metadata": {}
  },
  {
   "cell_type": "code",
   "execution_count": 10,
   "source": [
    "from sklearn.tree import DecisionTreeClassifier"
   ],
   "outputs": [],
   "metadata": {}
  },
  {
   "cell_type": "code",
   "execution_count": 11,
   "source": [
    "Model = DecisionTreeClassifier()\n",
    "Model.fit(review, y)"
   ],
   "outputs": [
    {
     "output_type": "execute_result",
     "data": {
      "text/plain": [
       "DecisionTreeClassifier()"
      ]
     },
     "metadata": {},
     "execution_count": 11
    }
   ],
   "metadata": {}
  },
  {
   "cell_type": "code",
   "execution_count": 12,
   "source": [
    "def rate(*comment):\n",
    "    f_ex = vec.transform(comment)\n",
    "    tf = tfidf.transform(f_ex)\n",
    "\n",
    "    pred = Model.predict(tf)\n",
    "    \n",
    "    for review, rating in zip(comment,pred):\n",
    "        print(review,':\\n','Rating:',rating)"
   ],
   "outputs": [],
   "metadata": {}
  },
  {
   "cell_type": "code",
   "execution_count": 13,
   "source": [
    "rate('Not in good condition',\n",
    "    'It is satisfactory')"
   ],
   "outputs": [
    {
     "output_type": "stream",
     "name": "stdout",
     "text": [
      "Not in good condition :\n",
      " Rating: Poor\n",
      "It is satisfactory :\n",
      " Rating: Good\n"
     ]
    }
   ],
   "metadata": {}
  }
 ],
 "metadata": {
  "orig_nbformat": 4,
  "language_info": {
   "name": "python",
   "version": "3.8.8",
   "mimetype": "text/x-python",
   "codemirror_mode": {
    "name": "ipython",
    "version": 3
   },
   "pygments_lexer": "ipython3",
   "nbconvert_exporter": "python",
   "file_extension": ".py"
  },
  "kernelspec": {
   "name": "python3",
   "display_name": "Python 3.8.8 64-bit ('base': conda)"
  },
  "interpreter": {
   "hash": "1f01ffc44fa1e332f6646bf6542f38d02d19e29c1511409ee42d6b9cbd2c4251"
  }
 },
 "nbformat": 4,
 "nbformat_minor": 2
}